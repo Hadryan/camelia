{
 "cells": [
  {
   "cell_type": "markdown",
   "metadata": {},
   "source": [
    "# Examples: Video generation"
   ]
  },
  {
   "cell_type": "code",
   "execution_count": null,
   "metadata": {
    "ExecuteTime": {
     "end_time": "2021-01-08T22:06:48.042100Z",
     "start_time": "2021-01-08T22:06:47.471333Z"
    }
   },
   "outputs": [],
   "source": [
    "# We need it to import sunflower\n",
    "\n",
    "import sys\n",
    "sys.path.insert(0, \"..\")\n",
    "sys.path.insert(0, \"../..\")\n",
    "\n",
    "# General\n",
    "\n",
    "import numpy\n",
    "import pandas\n",
    "\n",
    "# Audio\n",
    "\n",
    "from sunflower.sunflower.song_loader import Song, load_from_disk\n",
    "from sunflower.sunflower.song_analyzer import SongAnalyzer\n",
    "from sunflower.sunflower.utils import export_wav\n",
    "from sunflower.sunflower.song_visualizer import visualize_waveform\n",
    "import plotly.graph_objects as go\n",
    "import numpy as np\n",
    "import librosa\n",
    "import soundfile as sf\n",
    "\n",
    "# Video\n",
    "\n",
    "import moviepy\n",
    "import pygame\n",
    "\n",
    "from camelia.video import MusicVideo\n",
    "\n",
    "# Autoreloading for easier development\n",
    "\n",
    "%load_ext autoreload\n",
    "%autoreload 2"
   ]
  },
  {
   "cell_type": "markdown",
   "metadata": {},
   "source": [
    "## Chiptune"
   ]
  },
  {
   "cell_type": "code",
   "execution_count": null,
   "metadata": {
    "ExecuteTime": {
     "end_time": "2021-01-08T22:48:38.288489Z",
     "start_time": "2021-01-08T22:48:36.197316Z"
    }
   },
   "outputs": [],
   "source": [
    "# Loading song\n",
    "\n",
    "raw_audio, extension = load_from_disk(\"../assets/chiptune.mp3\")\n",
    "\n",
    "song = Song(raw_audio, extension)\n",
    "\n",
    "# Video setup\n",
    "\n",
    "vdo = MusicVideo(song,\n",
    "                 \"../assets/loops/dance.gif\",\n",
    "                 \"Tices\",\n",
    "                 \"Chiptune\",\n",
    "                 music_bpm=95,\n",
    "                 drop_beats=4)\n",
    "\n",
    "# Main Loop\n",
    "\n",
    "vdo.main_clip = vdo.sync_bpm_clip(vdo.main_clip)\n",
    "vdo.main_clip = vdo.loop_clip(vdo.main_clip, crossfadein=0.5)\n",
    "\n",
    "# Text\n",
    "vdo.text_assets.generate_clips()\n",
    "vdo.text_assets.set_timing(mode='before_drop')\n",
    "\n",
    "# Intro\n",
    "vdo.add_background_clip(\"../assets/loops/boreal_static.gif\", sync=True)\n",
    "video_gen = vdo.generate_video(cut=10)"
   ]
  },
  {
   "cell_type": "code",
   "execution_count": null,
   "metadata": {
    "ExecuteTime": {
     "end_time": "2021-01-08T22:50:15.293100Z",
     "start_time": "2021-01-08T22:48:38.291073Z"
    }
   },
   "outputs": [],
   "source": [
    "video_gen.write_videofile(\"../results/chiptune_tices_dance_watermark2.mp4\",\n",
    "                          temp_audiofile=\"../results/temp-audio.m4a\",\n",
    "                          remove_temp=True,\n",
    "                          codec=\"libx264\",\n",
    "                          audio_codec=\"aac\")"
   ]
  },
  {
   "cell_type": "markdown",
   "metadata": {},
   "source": [
    "## Boom bap"
   ]
  },
  {
   "cell_type": "code",
   "execution_count": null,
   "metadata": {
    "ExecuteTime": {
     "end_time": "2021-01-08T22:24:36.617169Z",
     "start_time": "2021-01-08T22:24:34.124819Z"
    }
   },
   "outputs": [],
   "source": [
    "# Loading song\n",
    "\n",
    "raw_audio, extension = load_from_disk(\"../assets/boombap.mp3\")\n",
    "\n",
    "song = Song(raw_audio, extension)\n",
    "\n",
    "# Video setup\n",
    "\n",
    "vdo = MusicVideo(song,\n",
    "                 \"../assets/chillhop_mix/mpc_vid_89bpm.mp4\",\n",
    "                 \"NUMERO 13\",\n",
    "                 \"Boom bap!\",\n",
    "                 music_bpm=91,\n",
    "                 drop_beats=14)\n",
    "\n",
    "# Main Loop\n",
    "\n",
    "vdo.main_clip = vdo.sync_bpm_clip(vdo.main_clip, bpm_video=87.4)\n",
    "\n",
    "vdo.main_clip = moviepy.editor.vfx.mask_color(vdo.main_clip,\n",
    "                                              color=[235, 238, 231],\n",
    "                                              thr=20,\n",
    "                                              s=10)\n",
    "vdo.main_clip = vdo.loop_clip(vdo.main_clip, bpm_video=87.4, crossfadein=1)\n",
    "\n",
    "# Text\n",
    "vdo.text_assets.generate_clips()\n",
    "vdo.text_assets.set_timing(mode='before_drop')\n",
    "\n",
    "# Intro\n",
    "vdo.add_background_clip(\"../assets/loops/boreal_static.gif\", sync=True)\n",
    "video_gen = vdo.generate_video(cut=30)"
   ]
  },
  {
   "cell_type": "code",
   "execution_count": null,
   "metadata": {
    "ExecuteTime": {
     "end_time": "2021-01-08T22:31:16.866518Z",
     "start_time": "2021-01-08T22:24:36.620060Z"
    }
   },
   "outputs": [],
   "source": [
    "video_gen.write_videofile(\"../results/numero13_chillhop_watermark.mp4\",\n",
    "                          temp_audiofile=\"../results/temp-audio.m4a\",\n",
    "                          remove_temp=True,\n",
    "                          codec=\"libx264\",\n",
    "                          audio_codec=\"aac\")"
   ]
  },
  {
   "cell_type": "code",
   "execution_count": null,
   "metadata": {},
   "outputs": [],
   "source": []
  }
 ],
 "metadata": {
  "kernelspec": {
   "display_name": "camelia_venv",
   "language": "python",
   "name": "camelia_venv"
  },
  "language_info": {
   "codemirror_mode": {
    "name": "ipython",
    "version": 3
   },
   "file_extension": ".py",
   "mimetype": "text/x-python",
   "name": "python",
   "nbconvert_exporter": "python",
   "pygments_lexer": "ipython3",
   "version": "3.7.5"
  },
  "toc": {
   "base_numbering": 1,
   "nav_menu": {},
   "number_sections": true,
   "sideBar": true,
   "skip_h1_title": false,
   "title_cell": "Table of Contents",
   "title_sidebar": "Contents",
   "toc_cell": false,
   "toc_position": {},
   "toc_section_display": true,
   "toc_window_display": false
  }
 },
 "nbformat": 4,
 "nbformat_minor": 2
}
