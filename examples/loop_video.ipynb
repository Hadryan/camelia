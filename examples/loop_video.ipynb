{
 "cells": [
  {
   "cell_type": "markdown",
   "metadata": {},
   "source": [
    "# WIP: Video generation"
   ]
  },
  {
   "cell_type": "code",
   "execution_count": 2,
   "metadata": {
    "ExecuteTime": {
     "end_time": "2021-01-08T14:37:31.445765Z",
     "start_time": "2021-01-08T14:37:29.088921Z"
    }
   },
   "outputs": [
    {
     "name": "stdout",
     "output_type": "stream",
     "text": [
      "pygame 2.0.0 (SDL 2.0.12, python 3.7.5)\n",
      "Hello from the pygame community. https://www.pygame.org/contribute.html\n"
     ]
    }
   ],
   "source": [
    "# We need it to import sunflower\n",
    "\n",
    "import sys\n",
    "sys.path.insert(0, \"../..\")\n",
    "\n",
    "# General\n",
    "\n",
    "import numpy\n",
    "import pandas\n",
    "\n",
    "# Audio\n",
    "\n",
    "from sunflower.sunflower.song_loader import Song, load_from_disk\n",
    "from sunflower.sunflower.song_analyzer import SongAnalyzer\n",
    "from sunflower.sunflower.utils import export_wav\n",
    "from sunflower.sunflower.song_visualizer import visualize_waveform\n",
    "import plotly.graph_objects as go\n",
    "import numpy as np\n",
    "import librosa\n",
    "import soundfile as sf\n",
    "\n",
    "# Video\n",
    "\n",
    "import moviepy\n",
    "import pygame\n",
    "from camelia.video import MusicVideo\n",
    "\n",
    "# Autoreloading for easier development\n",
    "\n",
    "%load_ext autoreload\n",
    "%autoreload 2"
   ]
  },
  {
   "cell_type": "markdown",
   "metadata": {},
   "source": [
    "## Audio"
   ]
  },
  {
   "cell_type": "code",
   "execution_count": 4,
   "metadata": {
    "ExecuteTime": {
     "end_time": "2021-01-08T14:37:45.801240Z",
     "start_time": "2021-01-08T14:37:44.480115Z"
    }
   },
   "outputs": [
    {
     "name": "stdout",
     "output_type": "stream",
     "text": [
      "waveform: [[-0.00534058 -0.00537109  0.00350952 ...  0.02719116  0.01937866\n",
      "   0.0194397 ]\n",
      " [-0.00613403 -0.00613403  0.00772095 ... -0.00469971  0.00054932\n",
      "   0.00054932]], mono_waveform: [-0.0057373  -0.00575256  0.00561523 ...  0.01124573  0.00996399\n",
      "  0.00999451], extension: mp3, channels: 2, sr: 44100, sample_width: 2\n"
     ]
    }
   ],
   "source": [
    "# Loading example file\n",
    "\n",
    "raw_audio, extension = load_from_disk(\"../assets/chiptune.mp3\")\n",
    "\n",
    "song = Song(raw_audio, extension)\n",
    "\n",
    "song.print_attributes()"
   ]
  },
  {
   "cell_type": "code",
   "execution_count": 5,
   "metadata": {
    "ExecuteTime": {
     "end_time": "2021-01-08T14:37:49.177696Z",
     "start_time": "2021-01-08T14:37:48.713016Z"
    }
   },
   "outputs": [
    {
     "name": "stdout",
     "output_type": "stream",
     "text": [
      "95.0\n"
     ]
    }
   ],
   "source": [
    "# Analyzing song\n",
    "\n",
    "song_analyzer = SongAnalyzer(song,tempo=190)\n",
    "song_analyzer.detect_tempo()\n",
    "\n",
    "print(song_analyzer.tempo)"
   ]
  },
  {
   "cell_type": "markdown",
   "metadata": {},
   "source": [
    "## Video"
   ]
  },
  {
   "cell_type": "code",
   "execution_count": 36,
   "metadata": {
    "ExecuteTime": {
     "end_time": "2021-01-08T16:38:00.468838Z",
     "start_time": "2021-01-08T16:37:59.862739Z"
    }
   },
   "outputs": [],
   "source": [
    "vdo = MusicVideo(song,\"../assets/loops/trippy2.gif\",\"Tices\",\"Chiptune\",music_bpm=95,drop_beats = 4)\n",
    "            \n",
    "# Main Loop\n",
    "\n",
    "vdo.main_clip = vdo.sync_bpm_clip(vdo.main_clip)\n",
    "vdo.main_clip = vdo.loop_clip(vdo.main_clip,crossfadein=0.5)\n",
    "\n",
    "# Text\n",
    "vdo.text_assets.generate_clips()\n",
    "vdo.text_assets.set_timing(mode='before_drop')\n",
    "\n",
    "# Intro\n",
    "vdo.add_background_clip(\"../assets/loops/boreal_static.gif\",sync=True)\n",
    "video_gen = vdo.generate_video(cut=10)"
   ]
  },
  {
   "cell_type": "code",
   "execution_count": null,
   "metadata": {
    "ExecuteTime": {
     "end_time": "2021-01-08T10:53:10.736033Z",
     "start_time": "2021-01-08T10:53:08.920255Z"
    }
   },
   "outputs": [],
   "source": [
    "video_gen.ipython_display(fps=10, width=300) # HTML5 will resize to 400 pixels"
   ]
  },
  {
   "cell_type": "code",
   "execution_count": null,
   "metadata": {
    "ExecuteTime": {
     "end_time": "2020-12-26T17:55:35.547235Z",
     "start_time": "2020-12-26T17:55:35.276721Z"
    }
   },
   "outputs": [],
   "source": [
    "pygame.quit()"
   ]
  },
  {
   "cell_type": "code",
   "execution_count": null,
   "metadata": {},
   "outputs": [],
   "source": [
    "#video.ipython_display(fps=20, autoplay=1,maxduration=30)"
   ]
  },
  {
   "cell_type": "markdown",
   "metadata": {},
   "source": [
    "## Saving video"
   ]
  },
  {
   "cell_type": "code",
   "execution_count": null,
   "metadata": {
    "ExecuteTime": {
     "start_time": "2021-01-08T16:38:03.009Z"
    }
   },
   "outputs": [
    {
     "name": "stderr",
     "output_type": "stream",
     "text": [
      "                                                                      \n",
      "chunk:  24%|██▍       | 32/133 [1:39:16<5:13:18, 186.13s/it, now=None]\n",
      "                                                                      \u001b[A\n",
      "chunk:  24%|██▍       | 32/133 [1:39:16<5:13:18, 186.13s/it, now=None]\n",
      "chunk:  24%|██▍       | 32/133 [1:39:07<5:12:52, 185.87s/it, now=None]\u001b[A\n",
      "\n",
      "chunk:   0%|          | 0/221 [00:00<?, ?it/s, now=None]\u001b[A\u001b[A\n",
      "\n",
      "chunk:  70%|██████▉   | 154/221 [00:00<00:00, 1534.66it/s, now=None]\u001b[A\u001b[A\n",
      "\n",
      "                                                                      A\u001b[A\n",
      "chunk:  24%|██▍       | 32/133 [1:39:16<5:13:19, 186.13s/it, now=None]\n",
      "                                                                      \u001b[A\n",
      "chunk:  24%|██▍       | 32/133 [1:39:16<5:13:19, 186.13s/it, now=None]\n",
      "chunk:  24%|██▍       | 32/133 [1:39:07<5:12:53, 185.87s/it, now=None]\u001b[A\n",
      "\n"
     ]
    },
    {
     "name": "stdout",
     "output_type": "stream",
     "text": [
      "Moviepy - Building video ../results/chiptune_tices.mp4.\n",
      "MoviePy - Writing audio in ../results/temp-audio.m4a\n",
      "MoviePy - Done.\n",
      "Moviepy - Writing video ../results/chiptune_tices.mp4\n",
      "\n"
     ]
    },
    {
     "name": "stderr",
     "output_type": "stream",
     "text": [
      "t:   0%|          | 0/250 [00:00<?, ?it/s, now=None]\u001b[A\u001b[A\n",
      "\n",
      "t:   3%|▎         | 8/250 [00:00<00:03, 73.63it/s, now=None]\u001b[A\u001b[A\n",
      "\n",
      "t:   6%|▌         | 15/250 [00:00<00:03, 71.67it/s, now=None]\u001b[A\u001b[A\n",
      "\n",
      "t:   9%|▉         | 23/250 [00:00<00:03, 72.65it/s, now=None]\u001b[A\u001b[A\n",
      "\n",
      "t:  12%|█▏        | 31/250 [00:00<00:02, 73.41it/s, now=None]\u001b[A\u001b[A\n",
      "\n",
      "t:  16%|█▌        | 39/250 [00:00<00:02, 72.59it/s, now=None]\u001b[A\u001b[A\n",
      "\n",
      "t:  19%|█▉        | 47/250 [00:00<00:02, 72.60it/s, now=None]\u001b[A\u001b[A\n",
      "\n",
      "t:  22%|██▏       | 54/250 [00:00<00:03, 64.31it/s, now=None]\u001b[A\u001b[A\n",
      "\n",
      "t:  24%|██▍       | 61/250 [00:00<00:02, 65.05it/s, now=None]\u001b[A\u001b[A\n",
      "\n",
      "t:  27%|██▋       | 68/250 [00:01<00:03, 53.82it/s, now=None]\u001b[A\u001b[A\n",
      "\n",
      "t:  30%|██▉       | 74/250 [00:01<00:04, 42.74it/s, now=None]\u001b[A\u001b[A\n",
      "\n",
      "t:  32%|███▏      | 79/250 [00:01<00:04, 37.68it/s, now=None]\u001b[A\u001b[A\n",
      "\n",
      "t:  34%|███▎      | 84/250 [00:01<00:04, 36.62it/s, now=None]\u001b[A\u001b[A\n",
      "\n",
      "t:  35%|███▌      | 88/250 [00:01<00:04, 36.96it/s, now=None]\u001b[A\u001b[A\n",
      "\n",
      "t:  37%|███▋      | 92/250 [00:01<00:04, 36.24it/s, now=None]\u001b[A\u001b[A\n",
      "\n",
      "t:  38%|███▊      | 96/250 [00:01<00:04, 31.87it/s, now=None]\u001b[A\u001b[A\n",
      "\n",
      "t:  40%|████      | 100/250 [00:02<00:04, 30.84it/s, now=None]\u001b[A\u001b[A\n",
      "\n",
      "t:  42%|████▏     | 104/250 [00:02<00:05, 27.94it/s, now=None]\u001b[A\u001b[A\n",
      "\n",
      "t:  43%|████▎     | 107/250 [00:02<00:05, 26.25it/s, now=None]\u001b[A\u001b[A"
     ]
    }
   ],
   "source": [
    "video_gen.write_videofile(\"../results/chiptune_tices.mp4\", temp_audiofile=\"../results/temp-audio.m4a\", remove_temp=True, codec=\"libx264\", audio_codec=\"aac\")"
   ]
  },
  {
   "cell_type": "code",
   "execution_count": null,
   "metadata": {},
   "outputs": [],
   "source": []
  }
 ],
 "metadata": {
  "kernelspec": {
   "display_name": "camelia_venv",
   "language": "python",
   "name": "camelia_venv"
  },
  "language_info": {
   "codemirror_mode": {
    "name": "ipython",
    "version": 3
   },
   "file_extension": ".py",
   "mimetype": "text/x-python",
   "name": "python",
   "nbconvert_exporter": "python",
   "pygments_lexer": "ipython3",
   "version": "3.7.5"
  },
  "toc": {
   "base_numbering": 1,
   "nav_menu": {},
   "number_sections": true,
   "sideBar": true,
   "skip_h1_title": false,
   "title_cell": "Table of Contents",
   "title_sidebar": "Contents",
   "toc_cell": false,
   "toc_position": {},
   "toc_section_display": true,
   "toc_window_display": false
  }
 },
 "nbformat": 4,
 "nbformat_minor": 2
}
