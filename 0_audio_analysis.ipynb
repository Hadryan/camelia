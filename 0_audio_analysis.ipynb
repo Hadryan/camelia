{
 "cells": [
  {
   "cell_type": "code",
   "execution_count": null,
   "metadata": {
    "ExecuteTime": {
     "end_time": "2020-11-09T21:30:12.739646Z",
     "start_time": "2020-11-09T21:30:12.622077Z"
    }
   },
   "outputs": [],
   "source": [
    "# Add directory above current directory to path\n",
    "import sys\n",
    "\n",
    "sys.path.insert(0, \"..\")\n",
    "\n",
    "from sunflower.sunflower.song_loader import Song, load_from_disk\n",
    "from  sunflower.sunflower.song_analyzer import SongAnalyzer\n",
    "from  sunflower.sunflower.utils import export_wav\n",
    "from  sunflower.sunflower.song_visualizer import visualize_waveform\n",
    "import plotly.graph_objects as go\n",
    "import numpy as np\n",
    "import librosa\n",
    "import soundfile as sf\n",
    "\n",
    "# Autoreloading for easier development\n",
    "\n",
    "%load_ext autoreload\n",
    "%autoreload 2"
   ]
  },
  {
   "cell_type": "markdown",
   "metadata": {},
   "source": [
    "## Song loading & analysis"
   ]
  },
  {
   "cell_type": "code",
   "execution_count": null,
   "metadata": {
    "ExecuteTime": {
     "end_time": "2020-11-09T21:34:25.700050Z",
     "start_time": "2020-11-09T21:34:24.620770Z"
    }
   },
   "outputs": [],
   "source": [
    "# Loading example file\n",
    "\n",
    "raw_audio, extension = load_from_disk(\"assets/laylow_casting_slowed.mp3\")\n",
    "\n",
    "song = Song(raw_audio, extension)\n",
    "\n",
    "song.print_attributes()"
   ]
  },
  {
   "cell_type": "code",
   "execution_count": null,
   "metadata": {
    "ExecuteTime": {
     "end_time": "2020-11-09T21:34:27.998784Z",
     "start_time": "2020-11-09T21:34:27.299521Z"
    }
   },
   "outputs": [],
   "source": [
    "# Analyzing song\n",
    "\n",
    "song_analyzer = SongAnalyzer(song)\n",
    "song_analyzer.detect_tempo()\n",
    "\n",
    "print(song_analyzer.tempo)"
   ]
  },
  {
   "cell_type": "code",
   "execution_count": null,
   "metadata": {
    "ExecuteTime": {
     "end_time": "2020-11-09T21:34:28.154985Z",
     "start_time": "2020-11-09T21:34:28.000732Z"
    }
   },
   "outputs": [],
   "source": [
    "song_analyzer.beat_frames"
   ]
  },
  {
   "cell_type": "markdown",
   "metadata": {},
   "source": [
    "## Waveform visualization"
   ]
  },
  {
   "cell_type": "code",
   "execution_count": null,
   "metadata": {
    "ExecuteTime": {
     "end_time": "2020-11-09T21:34:32.420725Z",
     "start_time": "2020-11-09T21:34:32.111715Z"
    }
   },
   "outputs": [],
   "source": [
    "visualize_waveform(song)"
   ]
  },
  {
   "cell_type": "code",
   "execution_count": null,
   "metadata": {
    "ExecuteTime": {
     "end_time": "2020-11-09T21:36:16.401480Z",
     "start_time": "2020-11-09T21:36:15.637379Z"
    }
   },
   "outputs": [],
   "source": [
    "stereo = False\n",
    "rate = 30\n",
    "\n",
    "left = [point[0] for point in song.waveform[0::rate]]\n",
    "right = [point[1] for point in song.waveform[0::rate]]\n",
    "mono = (np.array(left) + np.array(right)) / 2\n",
    "x = np.arange(0, len(mono)) * rate / song.sr\n",
    "\n",
    "if stereo:\n",
    "    data = [\n",
    "        go.Scatter(x=x, y=left, name=\"Left\"),\n",
    "        go.Scatter(x=x, y=right, name=\"Right\"),\n",
    "    ]\n",
    "else:\n",
    "    data = [go.Scatter(x=x, y=mono, name=\"Mono\")]\n",
    "\n",
    "fig = go.Figure(data=data)\n",
    "\n",
    "beats = librosa.frames_to_time(song_analyzer.beat_frames, song.sr)\n",
    "\n",
    "fig.add_trace(\n",
    "    go.Scatter(\n",
    "        x=beats,\n",
    "        y=np.zeros(len(beats)),\n",
    "        mode=\"markers\",\n",
    "        marker_symbol=\"diamond-tall\",\n",
    "        marker_size=10,\n",
    "        name=\"Beat Rythm\"\n",
    "    )\n",
    ")\n",
    "\n",
    "fig.update_layout(title=f\"Waveform Visualizer <br>BPM :{round(song_analyzer.tempo,0)}\")\n",
    "fig.show()"
   ]
  }
 ],
 "metadata": {
  "kernelspec": {
   "display_name": "camelia_venv",
   "language": "python",
   "name": "camelia_venv"
  },
  "language_info": {
   "codemirror_mode": {
    "name": "ipython",
    "version": 3
   },
   "file_extension": ".py",
   "mimetype": "text/x-python",
   "name": "python",
   "nbconvert_exporter": "python",
   "pygments_lexer": "ipython3",
   "version": "3.7.5"
  },
  "toc": {
   "base_numbering": 1,
   "nav_menu": {},
   "number_sections": true,
   "sideBar": true,
   "skip_h1_title": true,
   "title_cell": "Table of Contents",
   "title_sidebar": "Contents",
   "toc_cell": false,
   "toc_position": {},
   "toc_section_display": true,
   "toc_window_display": false
  }
 },
 "nbformat": 4,
 "nbformat_minor": 2
}
