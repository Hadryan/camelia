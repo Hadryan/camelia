{
 "cells": [
  {
   "cell_type": "markdown",
   "metadata": {},
   "source": [
    "# WIP: Video generation"
   ]
  },
  {
   "cell_type": "code",
   "execution_count": 8,
   "metadata": {
    "ExecuteTime": {
     "end_time": "2020-12-26T12:08:27.054025Z",
     "start_time": "2020-12-26T12:08:26.986331Z"
    }
   },
   "outputs": [
    {
     "name": "stdout",
     "output_type": "stream",
     "text": [
      "The autoreload extension is already loaded. To reload it, use:\n",
      "  %reload_ext autoreload\n"
     ]
    }
   ],
   "source": [
    "# We need it to import sunflower\n",
    "\n",
    "import sys\n",
    "sys.path.insert(0, \"..\")\n",
    "\n",
    "# General\n",
    "\n",
    "import numpy\n",
    "import pandas\n",
    "\n",
    "# Audio\n",
    "\n",
    "from sunflower.sunflower.song_loader import Song, load_from_disk\n",
    "from sunflower.sunflower.song_analyzer import SongAnalyzer\n",
    "from sunflower.sunflower.utils import export_wav\n",
    "from sunflower.sunflower.song_visualizer import visualize_waveform\n",
    "import plotly.graph_objects as go\n",
    "import numpy as np\n",
    "import librosa\n",
    "import soundfile as sf\n",
    "\n",
    "# Video\n",
    "\n",
    "from moviepy.editor import *\n",
    "from moviepy.audio.AudioClip import AudioArrayClip\n",
    "import moviepy\n",
    "import pygame\n",
    "from camelia.video import LoopVideo\n",
    "\n",
    "# Autoreloading for easier development\n",
    "\n",
    "%load_ext autoreload\n",
    "%autoreload 2"
   ]
  },
  {
   "cell_type": "markdown",
   "metadata": {},
   "source": [
    "## Audio"
   ]
  },
  {
   "cell_type": "code",
   "execution_count": 4,
   "metadata": {
    "ExecuteTime": {
     "end_time": "2020-12-26T11:04:46.494917Z",
     "start_time": "2020-12-26T11:04:46.125276Z"
    }
   },
   "outputs": [
    {
     "name": "stdout",
     "output_type": "stream",
     "text": [
      "waveform: [[ 0.0000000e+00  3.0517578e-05]\n",
      " [ 1.5258789e-04 -3.0517578e-05]\n",
      " [ 9.1552734e-05  1.8310547e-04]\n",
      " ...\n",
      " [-3.6621094e-04  9.1552734e-05]\n",
      " [-2.7465820e-04 -1.8310547e-04]\n",
      " [-3.0517578e-04 -6.1035156e-05]], mono_waveform: [ 0.  2.  4. ... -5. -8. -6.], extension: wav, channels: 2, sr: 44100, sample_width: 2\n"
     ]
    }
   ],
   "source": [
    "# Loading example file\n",
    "\n",
    "raw_audio, extension = load_from_disk(\"assets/mirage_84.wav\")\n",
    "\n",
    "song = Song(raw_audio, extension)\n",
    "\n",
    "song.print_attributes()"
   ]
  },
  {
   "cell_type": "code",
   "execution_count": 6,
   "metadata": {
    "ExecuteTime": {
     "end_time": "2020-12-26T11:07:29.499321Z",
     "start_time": "2020-12-26T11:07:27.261288Z"
    }
   },
   "outputs": [
    {
     "name": "stdout",
     "output_type": "stream",
     "text": [
      "86.0\n"
     ]
    }
   ],
   "source": [
    "# Analyzing song\n",
    "\n",
    "song_analyzer = SongAnalyzer(song)\n",
    "song_analyzer.detect_tempo()\n",
    "\n",
    "print(song_analyzer.tempo)"
   ]
  },
  {
   "cell_type": "markdown",
   "metadata": {},
   "source": [
    "## Video"
   ]
  },
  {
   "cell_type": "code",
   "execution_count": 69,
   "metadata": {
    "ExecuteTime": {
     "end_time": "2020-12-24T10:35:51.517776Z",
     "start_time": "2020-12-24T10:35:51.481691Z"
    }
   },
   "outputs": [],
   "source": [
    "def squared_size(clip):\n",
    "    \"\"\"\n",
    "    \"\"\"\n",
    "\n",
    "    # Resize\n",
    "    clip = clip.crop(x_center=int(clip.w / 2),\n",
    "                     y_center=int(clip.h / 2),\n",
    "                     width=min(clip.w, clip.h),\n",
    "                     height=min(clip.w, clip.h))\n",
    "\n",
    "    return (clip)"
   ]
  },
  {
   "cell_type": "code",
   "execution_count": 70,
   "metadata": {
    "ExecuteTime": {
     "end_time": "2020-12-24T10:35:51.617396Z",
     "start_time": "2020-12-24T10:35:51.583777Z"
    }
   },
   "outputs": [],
   "source": []
  },
  {
   "cell_type": "code",
   "execution_count": 15,
   "metadata": {
    "ExecuteTime": {
     "end_time": "2020-12-26T12:20:48.998233Z",
     "start_time": "2020-12-26T12:20:48.906416Z"
    }
   },
   "outputs": [],
   "source": []
  },
  {
   "cell_type": "code",
   "execution_count": 16,
   "metadata": {
    "ExecuteTime": {
     "end_time": "2020-12-26T12:20:51.551594Z",
     "start_time": "2020-12-26T12:20:51.506233Z"
    }
   },
   "outputs": [
    {
     "data": {
      "text/plain": [
       "<camelia.video.LoopVideo at 0x12f61fdd0>"
      ]
     },
     "execution_count": 16,
     "metadata": {},
     "output_type": "execute_result"
    }
   ],
   "source": [
    "vdo"
   ]
  },
  {
   "cell_type": "code",
   "execution_count": 71,
   "metadata": {
    "ExecuteTime": {
     "end_time": "2020-12-24T10:35:52.615203Z",
     "start_time": "2020-12-24T10:35:52.579924Z"
    }
   },
   "outputs": [],
   "source": [
    "# Settings\n",
    "\n",
    "WIDTH = 1080\n",
    "HEIGHT = 1080\n",
    "CENTER_PROP = 1\n",
    "\n",
    "screensize = (WIDTH, HEIGHT)\n",
    "prop_center = 0.8\n",
    "\n",
    "BPM = 84\n",
    "BPM_VID = 87.4\n",
    "\n",
    "duration = 60 / BPM\n",
    "\n",
    "artist_name = \"nymano x j'san\"\n",
    "track_name = \"mirage\"\n",
    "\n",
    "# Texts\n",
    "\n",
    "textwidth = 0.2 * WIDTH\n",
    "textheight = 0.2 * HEIGHT"
   ]
  },
  {
   "cell_type": "code",
   "execution_count": null,
   "metadata": {},
   "outputs": [],
   "source": [
    "vdo = LoopVideo(song,\"nymano x jsan\",\"mirage\",music_bpm=84,video_bpm=87.4)"
   ]
  },
  {
   "cell_type": "code",
   "execution_count": 72,
   "metadata": {
    "ExecuteTime": {
     "end_time": "2020-12-24T10:35:54.153359Z",
     "start_time": "2020-12-24T10:35:53.226315Z"
    }
   },
   "outputs": [],
   "source": [
    "txtClip_artist = TextClip(artist_name,\n",
    "                          color='white',\n",
    "                          font=\"Helvetica\",\n",
    "                          kerning=5,\n",
    "                          size=(textwidth, None))\n",
    "\n",
    "txtClip_track = TextClip(track_name,\n",
    "                         color='LightPink',\n",
    "                         font=\"Helvetica-bold\",\n",
    "                         kerning=5,\n",
    "                         size=(textwidth, None))\n",
    "\n",
    "# Load all the videos\n",
    "\n",
    "# Chillhop vid\n",
    "\n",
    "clip = VideoFileClip(\"assets/chillhop_mix/mpc_vid_89bpm.mp4\", fps_source=\"fps\")\n",
    "\n",
    "clip_duration = clip.duration\n",
    "\n",
    "limit_duration = (clip_duration // (60 / BPM_VID)) * (60 / BPM_VID)\n",
    "\n",
    "clip = clip.set_duration(limit_duration)\n",
    "\n",
    "clip_fps = clip.fps\n",
    "\n",
    "clip = clip.speedx(factor=BPM / BPM_VID)\n",
    "clip = squared_size(clip)\n",
    "clip = clip.resize(screensize).resize(CENTER_PROP)\n",
    "\n",
    "# Looping the clip\n",
    "clip = clip.loop(n=4)\n",
    "\n",
    "# Say that you want it to appear 10s at the center of the screen\n",
    "txtClip_artist = txtClip_artist.set_pos(\n",
    "    (WIDTH / 2 - txtClip_artist.w / 2,\n",
    "     0.1 * HEIGHT)).set_start(duration * 2).set_duration(duration * 4)\n",
    "\n",
    "# Say that you want it to appear 10s at the center of the screen\n",
    "txtClip_track = txtClip_track.set_pos(\n",
    "    (WIDTH / 2 - txtClip_track.w / 2,\n",
    "     0.25 * HEIGHT)).set_start(duration * 2).set_duration(duration * 4)\n",
    "\n",
    "# Overlay the text clip on the first video clip\n",
    "video = CompositeVideoClip(\n",
    "    [clip.set_position(\"center\"), txtClip_artist, txtClip_track])\n",
    "\n",
    "video = video.set_audio(audioclip)\n",
    "\n",
    "# Cut de la video\n",
    "\n",
    "video = video.subclip(0, 20)"
   ]
  },
  {
   "cell_type": "code",
   "execution_count": 36,
   "metadata": {
    "ExecuteTime": {
     "end_time": "2020-12-24T10:02:31.857975Z",
     "start_time": "2020-12-24T10:02:28.423499Z"
    }
   },
   "outputs": [
    {
     "name": "stdout",
     "output_type": "stream",
     "text": [
      "Interrupt\n"
     ]
    },
    {
     "data": {
      "text/plain": [
       "[]"
      ]
     },
     "execution_count": 36,
     "metadata": {},
     "output_type": "execute_result"
    }
   ],
   "source": [
    "video.preview(fps=10, audio=True)"
   ]
  },
  {
   "cell_type": "code",
   "execution_count": 37,
   "metadata": {
    "ExecuteTime": {
     "end_time": "2020-12-24T10:02:32.102042Z",
     "start_time": "2020-12-24T10:02:31.861196Z"
    }
   },
   "outputs": [],
   "source": [
    "pygame.quit()"
   ]
  },
  {
   "cell_type": "code",
   "execution_count": null,
   "metadata": {},
   "outputs": [],
   "source": [
    "#video.ipython_display(fps=20, autoplay=1,maxduration=30)"
   ]
  },
  {
   "cell_type": "markdown",
   "metadata": {},
   "source": [
    "## Saving video"
   ]
  },
  {
   "cell_type": "code",
   "execution_count": 73,
   "metadata": {
    "ExecuteTime": {
     "end_time": "2020-12-24T10:36:59.465369Z",
     "start_time": "2020-12-24T10:36:02.910854Z"
    }
   },
   "outputs": [
    {
     "name": "stderr",
     "output_type": "stream",
     "text": [
      "chunk:  45%|████▍     | 197/442 [00:00<00:00, 1969.17it/s, now=None]"
     ]
    },
    {
     "name": "stdout",
     "output_type": "stream",
     "text": [
      "Moviepy - Building video results/test_mirage.mp4.\n",
      "MoviePy - Writing audio in temp-audio.m4a\n"
     ]
    },
    {
     "name": "stderr",
     "output_type": "stream",
     "text": [
      "t:   0%|          | 2/500 [00:00<00:25, 19.24it/s, now=None]        "
     ]
    },
    {
     "name": "stdout",
     "output_type": "stream",
     "text": [
      "MoviePy - Done.\n",
      "Moviepy - Writing video results/test_mirage.mp4\n",
      "\n"
     ]
    },
    {
     "name": "stderr",
     "output_type": "stream",
     "text": [
      "                                                              \r"
     ]
    },
    {
     "name": "stdout",
     "output_type": "stream",
     "text": [
      "Moviepy - Done !\n",
      "Moviepy - video ready results/test_mirage.mp4\n"
     ]
    }
   ],
   "source": [
    "video.write_videofile(\"results/test_mirage.mp4\", temp_audiofile=\"temp-audio.m4a\", remove_temp=True, codec=\"libx264\", audio_codec=\"aac\")"
   ]
  },
  {
   "cell_type": "code",
   "execution_count": null,
   "metadata": {},
   "outputs": [],
   "source": []
  }
 ],
 "metadata": {
  "kernelspec": {
   "display_name": "camelia_venv",
   "language": "python",
   "name": "camelia_venv"
  },
  "language_info": {
   "codemirror_mode": {
    "name": "ipython",
    "version": 3
   },
   "file_extension": ".py",
   "mimetype": "text/x-python",
   "name": "python",
   "nbconvert_exporter": "python",
   "pygments_lexer": "ipython3",
   "version": "3.7.5"
  },
  "toc": {
   "base_numbering": 1,
   "nav_menu": {},
   "number_sections": true,
   "sideBar": true,
   "skip_h1_title": false,
   "title_cell": "Table of Contents",
   "title_sidebar": "Contents",
   "toc_cell": false,
   "toc_position": {},
   "toc_section_display": true,
   "toc_window_display": false
  }
 },
 "nbformat": 4,
 "nbformat_minor": 2
}
