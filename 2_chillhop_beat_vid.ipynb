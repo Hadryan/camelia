{
 "cells": [
  {
   "cell_type": "markdown",
   "metadata": {},
   "source": [
    "# WIP: Video generation"
   ]
  },
  {
   "cell_type": "code",
   "execution_count": 1,
   "metadata": {
    "ExecuteTime": {
     "end_time": "2020-12-23T17:34:31.896096Z",
     "start_time": "2020-12-23T17:34:29.378681Z"
    }
   },
   "outputs": [],
   "source": [
    "# We need it to import sunflower\n",
    "\n",
    "import sys\n",
    "sys.path.insert(0, \"..\")\n",
    "\n",
    "# General\n",
    "\n",
    "import numpy\n",
    "import pandas\n",
    "\n",
    "# Audio\n",
    "\n",
    "from sunflower.sunflower.song_loader import Song, load_from_disk\n",
    "from sunflower.sunflower.song_analyzer import SongAnalyzer\n",
    "from sunflower.sunflower.utils import export_wav\n",
    "from sunflower.sunflower.song_visualizer import visualize_waveform\n",
    "import plotly.graph_objects as go\n",
    "import numpy as np\n",
    "import librosa\n",
    "import soundfile as sf\n",
    "\n",
    "# Video\n",
    "\n",
    "from moviepy.editor import *\n",
    "from moviepy.audio.AudioClip import AudioArrayClip\n",
    "import moviepy\n",
    "import pygame\n",
    "\n",
    "# Autoreloading for easier development\n",
    "\n",
    "%load_ext autoreload\n",
    "%autoreload 2"
   ]
  },
  {
   "cell_type": "markdown",
   "metadata": {},
   "source": [
    "## Audio"
   ]
  },
  {
   "cell_type": "code",
   "execution_count": 2,
   "metadata": {
    "ExecuteTime": {
     "end_time": "2020-12-23T17:35:11.706305Z",
     "start_time": "2020-12-23T17:35:10.735087Z"
    }
   },
   "outputs": [
    {
     "name": "stdout",
     "output_type": "stream",
     "text": [
      "waveform: [[ 0.          0.        ]\n",
      " [ 0.          0.        ]\n",
      " [ 0.          0.        ]\n",
      " ...\n",
      " [ 0.01153564 -0.01220703]\n",
      " [ 0.01165771 -0.01211548]\n",
      " [ 0.0093689  -0.01235962]], mono_waveform: [  0.   0.   0. ... -11.  -8. -49.], extension: mp3, channels: 2, sr: 44100, sample_width: 2\n"
     ]
    }
   ],
   "source": [
    "# Loading example file\n",
    "\n",
    "raw_audio, extension = load_from_disk(\"assets/chillhop_mix/collab_dlj_72bpm.mp3\")\n",
    "\n",
    "song = Song(raw_audio, extension)\n",
    "\n",
    "song.print_attributes()"
   ]
  },
  {
   "cell_type": "code",
   "execution_count": 3,
   "metadata": {
    "ExecuteTime": {
     "end_time": "2020-12-23T17:35:17.287925Z",
     "start_time": "2020-12-23T17:35:15.761517Z"
    }
   },
   "outputs": [
    {
     "name": "stdout",
     "output_type": "stream",
     "text": [
      "143.5546875\n"
     ]
    }
   ],
   "source": [
    "# Analyzing song\n",
    "\n",
    "song_analyzer = SongAnalyzer(song)\n",
    "song_analyzer.detect_tempo()\n",
    "\n",
    "print(song_analyzer.tempo)"
   ]
  },
  {
   "cell_type": "markdown",
   "metadata": {},
   "source": [
    "## Video"
   ]
  },
  {
   "cell_type": "code",
   "execution_count": 7,
   "metadata": {
    "ExecuteTime": {
     "end_time": "2020-12-23T17:38:21.815860Z",
     "start_time": "2020-12-23T17:38:21.777523Z"
    }
   },
   "outputs": [],
   "source": [
    "def squared_size(clip):\n",
    "\n",
    "    # Resize\n",
    "    clip = clip.crop(x_center=int(clip.w / 2),\n",
    "                     y_center=int(clip.h / 2),\n",
    "                     width=min(clip.w, clip.h),\n",
    "                     height=min(clip.w, clip.h))\n",
    "\n",
    "    return (clip)"
   ]
  },
  {
   "cell_type": "code",
   "execution_count": 8,
   "metadata": {
    "ExecuteTime": {
     "end_time": "2020-12-23T17:38:22.223647Z",
     "start_time": "2020-12-23T17:38:22.187392Z"
    }
   },
   "outputs": [],
   "source": [
    "audioclip = AudioArrayClip(song.waveform, fps=song.sr)"
   ]
  },
  {
   "cell_type": "code",
   "execution_count": 9,
   "metadata": {
    "ExecuteTime": {
     "end_time": "2020-12-23T17:38:22.668176Z",
     "start_time": "2020-12-23T17:38:22.634915Z"
    }
   },
   "outputs": [],
   "source": [
    "# Settings\n",
    "\n",
    "WIDTH = 1080\n",
    "HEIGHT = 1080\n",
    "CENTER_PROP = 1\n",
    "\n",
    "screensize = (WIDTH, HEIGHT)\n",
    "prop_center = 0.8\n",
    "\n",
    "BPM = 72\n",
    "BPM_VID = 88\n",
    "\n",
    "duration = 60 / BPM\n",
    "\n",
    "artist_name = \"DLJ x Nymano\"\n",
    "track_name = \"WIP\"\n",
    "\n",
    "# Texts\n",
    "\n",
    "textwidth = 0.2 * WIDTH\n",
    "textheight = 0.2 * HEIGHT"
   ]
  },
  {
   "cell_type": "code",
   "execution_count": 47,
   "metadata": {
    "ExecuteTime": {
     "end_time": "2020-12-23T18:10:39.383072Z",
     "start_time": "2020-12-23T18:10:39.351370Z"
    }
   },
   "outputs": [
    {
     "data": {
      "text/plain": [
       "0.6818181818181818"
      ]
     },
     "execution_count": 47,
     "metadata": {},
     "output_type": "execute_result"
    }
   ],
   "source": [
    "60/88"
   ]
  },
  {
   "cell_type": "code",
   "execution_count": 41,
   "metadata": {
    "ExecuteTime": {
     "end_time": "2020-12-23T18:05:25.533516Z",
     "start_time": "2020-12-23T18:05:24.554565Z"
    }
   },
   "outputs": [],
   "source": [
    "txtClip_artist = TextClip(artist_name,\n",
    "                          color='white',\n",
    "                          font=\"Helvetica\",\n",
    "                          kerning=5,\n",
    "                          size=(textwidth, None))\n",
    "\n",
    "txtClip_track = TextClip(track_name,\n",
    "                         color='LightPink',\n",
    "                         font=\"Helvetica-bold\",\n",
    "                         kerning=5,\n",
    "                         size=(textwidth, None))\n",
    "\n",
    "# Load all the videos\n",
    "\n",
    "# Chillhop vid\n",
    "\n",
    "clip = VideoFileClip(\"assets/chillhop_mix/mpc_vid_89bpm.mp4\", fps_source=\"fps\")\n",
    "clip_fps = clip.fps\n",
    "\n",
    "clip = clip.speedx(factor=BPM / BPM_VID)\n",
    "clip = squared_size(clip)\n",
    "clip = clip.resize(screensize).resize(CENTER_PROP)\n",
    "\n",
    "# Looping the clip\n",
    "clip = clip.loop(n=4)\n",
    "\n",
    "# Say that you want it to appear 10s at the center of the screen\n",
    "txtClip_artist = txtClip_artist.set_pos(\n",
    "    (WIDTH / 2 - txtClip_artist.w / 2,\n",
    "     0.1 * HEIGHT)).set_start(duration * 2).set_duration(duration * 2)\n",
    "\n",
    "# Say that you want it to appear 10s at the center of the screen\n",
    "txtClip_track = txtClip_track.set_pos(\n",
    "    (WIDTH / 2 - txtClip_track.w / 2,\n",
    "     0.25 * HEIGHT)).set_start(duration * 2).set_duration(duration * 2)\n",
    "\n",
    "# Overlay the text clip on the first video clip\n",
    "video = CompositeVideoClip(\n",
    "    [clip.set_position(\"center\"), txtClip_artist, txtClip_track])\n",
    "\n",
    "video = video.set_audio(audioclip)\n",
    "\n",
    "# Cut de la video\n",
    "\n",
    "video = video.subclip(0, 15)"
   ]
  },
  {
   "cell_type": "code",
   "execution_count": 42,
   "metadata": {
    "ExecuteTime": {
     "end_time": "2020-12-23T18:05:43.989612Z",
     "start_time": "2020-12-23T18:05:29.236549Z"
    }
   },
   "outputs": [],
   "source": [
    "video.preview(fps=10, audio=True)"
   ]
  },
  {
   "cell_type": "code",
   "execution_count": 43,
   "metadata": {
    "ExecuteTime": {
     "end_time": "2020-12-23T18:05:44.816407Z",
     "start_time": "2020-12-23T18:05:44.565314Z"
    }
   },
   "outputs": [],
   "source": [
    "pygame.quit()"
   ]
  },
  {
   "cell_type": "code",
   "execution_count": null,
   "metadata": {},
   "outputs": [],
   "source": [
    "#video.ipython_display(fps=20, autoplay=1,maxduration=30)"
   ]
  },
  {
   "cell_type": "markdown",
   "metadata": {},
   "source": [
    "## Saving video"
   ]
  },
  {
   "cell_type": "code",
   "execution_count": 44,
   "metadata": {
    "ExecuteTime": {
     "end_time": "2020-12-23T18:06:34.989835Z",
     "start_time": "2020-12-23T18:05:53.591095Z"
    }
   },
   "outputs": [
    {
     "name": "stderr",
     "output_type": "stream",
     "text": [
      "t:   0%|          | 0/375 [00:00<?, ?it/s, now=None]                "
     ]
    },
    {
     "name": "stdout",
     "output_type": "stream",
     "text": [
      "Moviepy - Building video results/test_chilhop.mp4.\n",
      "MoviePy - Writing audio in temp-audio.m4a\n",
      "MoviePy - Done.\n",
      "Moviepy - Writing video results/test_chilhop.mp4\n",
      "\n"
     ]
    },
    {
     "name": "stderr",
     "output_type": "stream",
     "text": [
      "                                                              \r"
     ]
    },
    {
     "name": "stdout",
     "output_type": "stream",
     "text": [
      "Moviepy - Done !\n",
      "Moviepy - video ready results/test_chilhop.mp4\n"
     ]
    }
   ],
   "source": [
    "video.write_videofile(\"results/test_chilhop.mp4\", temp_audiofile=\"temp-audio.m4a\", remove_temp=True, codec=\"libx264\", audio_codec=\"aac\")"
   ]
  },
  {
   "cell_type": "code",
   "execution_count": null,
   "metadata": {},
   "outputs": [],
   "source": []
  }
 ],
 "metadata": {
  "kernelspec": {
   "display_name": "camelia_venv",
   "language": "python",
   "name": "camelia_venv"
  },
  "language_info": {
   "codemirror_mode": {
    "name": "ipython",
    "version": 3
   },
   "file_extension": ".py",
   "mimetype": "text/x-python",
   "name": "python",
   "nbconvert_exporter": "python",
   "pygments_lexer": "ipython3",
   "version": "3.7.5"
  },
  "toc": {
   "base_numbering": 1,
   "nav_menu": {},
   "number_sections": true,
   "sideBar": true,
   "skip_h1_title": false,
   "title_cell": "Table of Contents",
   "title_sidebar": "Contents",
   "toc_cell": false,
   "toc_position": {},
   "toc_section_display": true,
   "toc_window_display": false
  }
 },
 "nbformat": 4,
 "nbformat_minor": 2
}
