{
 "cells": [
  {
   "cell_type": "markdown",
   "metadata": {},
   "source": [
    "# WIP: Video generation"
   ]
  },
  {
   "cell_type": "code",
   "execution_count": null,
   "metadata": {
    "ExecuteTime": {
     "end_time": "2021-01-08T10:06:04.187001Z",
     "start_time": "2021-01-08T10:06:04.135336Z"
    }
   },
   "outputs": [],
   "source": [
    "# We need it to import sunflower\n",
    "\n",
    "import sys\n",
    "sys.path.insert(0, \"..\")\n",
    "\n",
    "# General\n",
    "\n",
    "import numpy\n",
    "import pandas\n",
    "\n",
    "# Audio\n",
    "\n",
    "from sunflower.sunflower.song_loader import Song, load_from_disk\n",
    "from sunflower.sunflower.song_analyzer import SongAnalyzer\n",
    "from sunflower.sunflower.utils import export_wav\n",
    "from sunflower.sunflower.song_visualizer import visualize_waveform\n",
    "import plotly.graph_objects as go\n",
    "import numpy as np\n",
    "import librosa\n",
    "import soundfile as sf\n",
    "\n",
    "# Video\n",
    "\n",
    "import moviepy\n",
    "import pygame\n",
    "from camelia.video import MusicVideo\n",
    "\n",
    "# Autoreloading for easier development\n",
    "\n",
    "%load_ext autoreload\n",
    "%autoreload 2"
   ]
  },
  {
   "cell_type": "markdown",
   "metadata": {},
   "source": [
    "## Audio"
   ]
  },
  {
   "cell_type": "code",
   "execution_count": null,
   "metadata": {
    "ExecuteTime": {
     "end_time": "2021-01-08T10:06:08.433401Z",
     "start_time": "2021-01-08T10:06:07.080547Z"
    }
   },
   "outputs": [],
   "source": [
    "# Loading example file\n",
    "\n",
    "raw_audio, extension = load_from_disk(\"assets/chiptune.mp3\")\n",
    "\n",
    "song = Song(raw_audio, extension)\n",
    "\n",
    "song.print_attributes()"
   ]
  },
  {
   "cell_type": "code",
   "execution_count": null,
   "metadata": {
    "ExecuteTime": {
     "end_time": "2021-01-08T10:06:09.612289Z",
     "start_time": "2021-01-08T10:06:09.128234Z"
    }
   },
   "outputs": [],
   "source": [
    "# Analyzing song\n",
    "\n",
    "song_analyzer = SongAnalyzer(song,tempo=190)\n",
    "song_analyzer.detect_tempo()\n",
    "\n",
    "print(song_analyzer.tempo)"
   ]
  },
  {
   "cell_type": "markdown",
   "metadata": {},
   "source": [
    "## Video"
   ]
  },
  {
   "cell_type": "code",
   "execution_count": null,
   "metadata": {
    "ExecuteTime": {
     "end_time": "2021-01-08T10:53:17.187841Z",
     "start_time": "2021-01-08T10:53:16.457261Z"
    }
   },
   "outputs": [],
   "source": [
    "vdo = MusicVideo(song,\"assets/loops/cassette.gif\",\"Tices\",\"Chiptune\",music_bpm=95,drop_beats = 4)\n",
    "            \n",
    "# Main Loop\n",
    "vdo.set_main_clip_as_loop()\n",
    "vdo.main_clip = vdo.sync_bpm_clip(vdo.main_clip)\n",
    "\n",
    "# Text\n",
    "vdo.text_assets.generate_clips()\n",
    "vdo.text_assets.set_timing(mode='before_drop')\n",
    "\n",
    "# Intro\n",
    "vdo.add_intro(\"assets/loops/trippy.gif\")\n",
    "vdo.intro = vdo.sync_bpm_clip(vdo.intro)\n",
    "video_gen = vdo.generate_video(cut=6)"
   ]
  },
  {
   "cell_type": "code",
   "execution_count": null,
   "metadata": {
    "ExecuteTime": {
     "end_time": "2021-01-08T10:53:10.736033Z",
     "start_time": "2021-01-08T10:53:08.920255Z"
    }
   },
   "outputs": [],
   "source": [
    "video_gen.ipython_display(fps=10, width=300) # HTML5 will resize to 400 pixels"
   ]
  },
  {
   "cell_type": "code",
   "execution_count": null,
   "metadata": {
    "ExecuteTime": {
     "end_time": "2020-12-26T17:55:35.547235Z",
     "start_time": "2020-12-26T17:55:35.276721Z"
    }
   },
   "outputs": [],
   "source": [
    "pygame.quit()"
   ]
  },
  {
   "cell_type": "code",
   "execution_count": null,
   "metadata": {},
   "outputs": [],
   "source": [
    "#video.ipython_display(fps=20, autoplay=1,maxduration=30)"
   ]
  },
  {
   "cell_type": "markdown",
   "metadata": {},
   "source": [
    "## Saving video"
   ]
  },
  {
   "cell_type": "code",
   "execution_count": null,
   "metadata": {
    "ExecuteTime": {
     "end_time": "2021-01-08T10:53:23.200024Z",
     "start_time": "2021-01-08T10:53:18.977274Z"
    }
   },
   "outputs": [],
   "source": [
    "video_gen.write_videofile(\"results/chiptune_testrefacto.mp4\", temp_audiofile=\"results/temp-audio.m4a\", remove_temp=True, codec=\"libx264\", audio_codec=\"aac\")"
   ]
  },
  {
   "cell_type": "code",
   "execution_count": null,
   "metadata": {
    "ExecuteTime": {
     "end_time": "2021-01-03T16:32:23.095619Z",
     "start_time": "2021-01-03T16:32:23.008213Z"
    }
   },
   "outputs": [],
   "source": [
    "\n",
    "from moviepy.editor import *\n",
    "TextClip.list('font')"
   ]
  },
  {
   "cell_type": "code",
   "execution_count": null,
   "metadata": {},
   "outputs": [],
   "source": []
  }
 ],
 "metadata": {
  "kernelspec": {
   "display_name": "camelia_venv",
   "language": "python",
   "name": "camelia_venv"
  },
  "language_info": {
   "codemirror_mode": {
    "name": "ipython",
    "version": 3
   },
   "file_extension": ".py",
   "mimetype": "text/x-python",
   "name": "python",
   "nbconvert_exporter": "python",
   "pygments_lexer": "ipython3",
   "version": "3.7.5"
  },
  "toc": {
   "base_numbering": 1,
   "nav_menu": {},
   "number_sections": true,
   "sideBar": true,
   "skip_h1_title": false,
   "title_cell": "Table of Contents",
   "title_sidebar": "Contents",
   "toc_cell": false,
   "toc_position": {},
   "toc_section_display": true,
   "toc_window_display": false
  }
 },
 "nbformat": 4,
 "nbformat_minor": 2
}
